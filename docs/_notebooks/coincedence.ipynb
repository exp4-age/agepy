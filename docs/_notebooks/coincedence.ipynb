{
 "cells": [
  {
   "cell_type": "markdown",
   "metadata": {},
   "source": [
    "# Plotting a coincedence map"
   ]
  },
  {
   "cell_type": "code",
   "execution_count": null,
   "metadata": {},
   "outputs": [],
   "source": [
    "%matplotlib inline\n",
    "import matplotlib.pyplot as plt\n",
    "import numpy as np\n",
    "\n",
    "xy_range = ((0, 2), (0, 2))\n",
    "n = 10000\n",
    "rng = np.random.default_rng(42)\n",
    "\n",
    "xdata = rng.normal(0.8, 0.2, size=n)\n",
    "ydata = rng.normal(1.2, 0.4, size=n)\n",
    "\n",
    "H, xedges, yedges = np.histogram2d(xdata, ydata, bins=50, range=xy_range)"
   ]
  },
  {
   "cell_type": "code",
   "execution_count": null,
   "metadata": {},
   "outputs": [],
   "source": [
    "from agepy import ageplot\n",
    "ageplot.use([\"age\", \"pccp\"])\n",
    "pccp = ageplot.figsize(\"pccp\")"
   ]
  },
  {
   "cell_type": "code",
   "execution_count": null,
   "metadata": {},
   "outputs": [],
   "source": [
    "from agepy.spec.coincidence import plot_coinc_map\n",
    "fig, ax = plot_coinc_map(H, xedges, yedges, figsize=(pccp.w, pccp.w))\n",
    "plt.show()"
   ]
  }
 ],
 "metadata": {
  "kernelspec": {
   "display_name": "agepy",
   "language": "python",
   "name": "python3"
  },
  "language_info": {
   "codemirror_mode": {
    "name": "ipython",
    "version": 3
   },
   "file_extension": ".py",
   "mimetype": "text/x-python",
   "name": "python",
   "nbconvert_exporter": "python",
   "pygments_lexer": "ipython3",
   "version": "3.8.17"
  }
 },
 "nbformat": 4,
 "nbformat_minor": 2
}
