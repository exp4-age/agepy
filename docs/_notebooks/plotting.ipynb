{
 "cells": [
  {
   "cell_type": "markdown",
   "metadata": {},
   "source": [
    "# How to plot with agepy and matplotlib\n",
    "\n",
    "This short tutorial is meant to showcase how agepy can help with \n",
    "creating nice plots. "
   ]
  },
  {
   "cell_type": "markdown",
   "metadata": {},
   "source": [
    "Import some standard packages used in this tutorial, create some data\n",
    "to plot and define a function to plot the toy data."
   ]
  },
  {
   "cell_type": "code",
   "execution_count": null,
   "metadata": {},
   "outputs": [],
   "source": [
    "%matplotlib inline\n",
    "import matplotlib.pyplot as plt\n",
    "import numpy as np\n",
    "from scipy.stats import norm, expon\n",
    "\n",
    "x_range = (0, 2)\n",
    "n = 10000\n",
    "rng = np.random.default_rng(42)\n",
    "\n",
    "sdata = rng.normal(1, 0.1, size=n)\n",
    "bdata = rng.exponential(size=n)\n",
    "data = np.append(sdata, bdata)\n",
    "\n",
    "hist, edges = np.histogram(data, bins=40, range=x_range)\n",
    "dx = np.diff(edges)[0]\n",
    "\n",
    "x = np.linspace(*x_range, 100)\n",
    "\n",
    "def plot_example():\n",
    "    plt.clf()\n",
    "    fig, ax = plt.subplots(1)\n",
    "    ax.step(edges[:-1], hist, label=\"data\")\n",
    "    ax.plot(x, n * dx * expon.pdf(x), label=\"background\")\n",
    "    ax.plot(x, n * dx * norm.pdf(x, 1, 0.1), label=\"signal\")\n",
    "    ax.plot(x, n * dx * (norm.pdf(x, 1, 0.1) + expon.pdf(x)), label=\"sum\")\n",
    "    ax.legend()\n",
    "    return ax"
   ]
  },
  {
   "cell_type": "markdown",
   "metadata": {},
   "source": [
    "## Applying the AGE style to your plots\n",
    "\n",
    "Matplotlib styles can be customized using [style sheets](https://matplotlib.org/stable/users/explain/customizing.html).\n",
    "The styles included in matplotlib can be viewed [here](https://matplotlib.org/stable/gallery/style_sheets/style_sheets_reference.html).\n",
    "\n",
    "In order to use the AGE styles implemented in agepy they first need to \n",
    "be imported with:"
   ]
  },
  {
   "cell_type": "code",
   "execution_count": null,
   "metadata": {},
   "outputs": [],
   "source": [
    "from agepy import ageplot"
   ]
  },
  {
   "cell_type": "markdown",
   "metadata": {},
   "source": [
    "The available styles are "
   ]
  },
  {
   "cell_type": "code",
   "execution_count": null,
   "metadata": {},
   "outputs": [],
   "source": [
    "print(ageplot.age_styles) # Lists the implemented AGE styles"
   ]
  },
  {
   "cell_type": "code",
   "execution_count": null,
   "metadata": {},
   "outputs": [],
   "source": [
    "print(ageplot.mpl_styles) # Lists the matplotlib styles"
   ]
  },
  {
   "cell_type": "markdown",
   "metadata": {},
   "source": [
    "To load and use a style call the function `ageplot.use(styles)` with\n",
    "any string or list of strings from `age_styles` or `mpl_styles`."
   ]
  },
  {
   "cell_type": "markdown",
   "metadata": {},
   "source": [
    "Plotting the example with the default matplotlib style will look like\n",
    "this:"
   ]
  },
  {
   "cell_type": "code",
   "execution_count": null,
   "metadata": {},
   "outputs": [],
   "source": [
    "ageplot.use(\"default\")\n",
    "plot_example()"
   ]
  },
  {
   "cell_type": "markdown",
   "metadata": {},
   "source": [
    "Using the style `\"age\"` will\n",
    "\n",
    "- add ticks to top and right axes\n",
    "- change the font to DejaVu Serif\n",
    "- use colorblind friendly colors (from the [seaborn colorblind palette](https://seaborn.pydata.org/tutorial/color_palettes.html))\n",
    "- enable $\\LaTeX$ for all text that is added to the plot (including siunitx\n",
    " and the specially defined arbitrary unit `\\DeclareSIUnit{\\arbitraryunit}{arb.u.}`)"
   ]
  },
  {
   "cell_type": "code",
   "execution_count": null,
   "metadata": {},
   "outputs": [],
   "source": [
    "ageplot.use(\"age\")\n",
    "ax = plot_example()\n",
    "ax.set_xlabel(r\"Energy $\\:/\\: \\si{\\electronvolt}$\")\n",
    "ax.set_ylabel(r\"Intensity $\\:/\\: \\si{\\arbitraryunit}$\")"
   ]
  },
  {
   "cell_type": "markdown",
   "metadata": {},
   "source": [
    ".. note::\n",
    "    The styles are defined in `.mplstyle` files. In order to add your own\n",
    "    style add a `.mplstyle` file in the `src/agepy/plot/` directory. As a \n",
    "    reference the file `src/agepy/plot/_reference.mplstyle` is available, \n",
    "    which contains all the available rcParams and their default values."
   ]
  }
 ],
 "metadata": {
  "kernelspec": {
   "display_name": "agepy",
   "language": "python",
   "name": "python3"
  },
  "language_info": {
   "codemirror_mode": {
    "name": "ipython",
    "version": 3
   },
   "file_extension": ".py",
   "mimetype": "text/x-python",
   "name": "python",
   "nbconvert_exporter": "python",
   "pygments_lexer": "ipython3",
   "version": "3.8.17"
  },
  "orig_nbformat": 4
 },
 "nbformat": 4,
 "nbformat_minor": 2
}
